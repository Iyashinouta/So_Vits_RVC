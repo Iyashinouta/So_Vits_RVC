{
  "cells": [
    {
      "cell_type": "markdown",
      "metadata": {
        "id": "view-in-github",
        "colab_type": "text"
      },
      "source": [
        "<a href=\"https://colab.research.google.com/github/Iyashinouta/So_Vits_RVC/blob/main/So_Vits_RVC.ipynb\" target=\"_parent\"><img src=\"https://colab.research.google.com/assets/colab-badge.svg\" alt=\"Open In Colab\"/></a>"
      ]
    },
    {
      "cell_type": "markdown",
      "source": [
        "![](https://visitor-badge.glitch.me/badge?page_id=iyashinouta.cag-webui)\n",
        "\n",
        "[![SD](https://img.shields.io/badge/Stable%20Diffusion-Colab-orange?style=flat&labelColor=gray)](https://colab.research.google.com/github/Iyashinouta/chilloutmix-auto1111-colab/blob/main/ChillOutMix_Ni.ipynb)\n",
        "[![RVC](https://img.shields.io/badge/So%20Vits-Colab-orange?style=flat&labelColor=gray)](https://colab.research.google.com/github/Iyashinouta/So_Vits_RVC/blob/main/So_Vits_RVC.ipynb)\n",
        "\n",
        "Welcome to **[RVC AI Song](https://colab.research.google.com/drive/1ofM7KsGmntn2n1hC4ymaOlaWRbVNo9ld?authuser=1)** from **Google Colab**\n",
        "\n",
        "<details>\n",
        "  <summary>Follow the instructions, it's simple</summary>\n",
        "\n",
        "1. You just click one by one, sequentially from top to bottom\n",
        "\n",
        "2. after the link appears on ***Launch UI***\n",
        "\n",
        "    click the link (Public URL), and good luck\n",
        "</details>\n",
        "\n",
        "<details>\n",
        "  <summary>P.S.</summary> \n",
        "\n",
        "* if U have any Questions or Issues, Chat me on\n",
        "\n",
        "[![facebook](https://img.shields.io/badge/Facebook--blue?style=for-the-badge&labelColor=gray&logo=facebook)](https://www.facebook.com/iyashinouta)\n",
        "\n",
        "[![discord](https://img.shields.io/badge/Discord--7289d9?style=for-the-badge&logo=discord)](https://discord.com/channels/@me/614811143780696077)\n",
        "</details>\n"
      ],
      "metadata": {
        "id": "SZue5NJDZXBc"
      }
    },
    {
      "cell_type": "code",
      "execution_count": null,
      "metadata": {
        "id": "qGwRHGiYRSGv",
        "cellView": "form"
      },
      "outputs": [],
      "source": [
        "from IPython.display import clear_output\n",
        "#@markdown #***Setup UI***\n",
        "#@markdown Install Dependencies\n",
        "#Install Lib & UI\n",
        "!apt install git-lfs\n",
        "!git lfs install\n",
        "!git clone https://huggingface.co/spaces/ardha27/rvc-models\n",
        "!python -m pip install -U pip wheel\n",
        "%pip install -U ipython\n",
        "\n",
        "#Install Requirement\n",
        "!pip install -r /content/rvc-models/requirements.txt\n",
        "\n",
        "#Install Library for Youtube WAV Download\n",
        "!pip install yt_dlp\n",
        "!pip install ffmpeg\n",
        "\n",
        "#Install Demucs for Separating Audio\n",
        "!python3 -m pip install -U demucs\n",
        "\n",
        "clear_output()"
      ]
    },
    {
      "cell_type": "code",
      "execution_count": null,
      "metadata": {
        "id": "XPyIXNnORUz6",
        "cellView": "form"
      },
      "outputs": [],
      "source": [
        "#@markdown #***Download Youtube WAV***\n",
        "from __future__ import unicode_literals\n",
        "import yt_dlp\n",
        "import ffmpeg\n",
        "import sys\n",
        "import subprocess\n",
        "\n",
        "%cd /content/rvc-models\n",
        "url = \"https://www.youtube.com/watch?v=ByQMJ1MS5ws\" #@param {type:\"string\"}\n",
        "song_name = \"kawaikute_gomen\" #@param {type:\"string\"}\n",
        "demucs = False #@param {type:\"boolean\"}\n",
        "\n",
        "#@markdown <p><font size=3> use `demucs` to Separate Vocal and Instrument/Noise <b><font size=4><font color=ff4444> BUG</font></b><br>\n",
        "#@markdown <font size=3> uncheck if it is already Acapella/Vocal Only <b><font size=4, color=00C851> RECOMENDED</b></p>\n",
        "\n",
        "\n",
        "ydl_opts = {\n",
        "    'format': 'bestaudio/best',\n",
        "#    'outtmpl': 'output.%(ext)s',\n",
        "    'postprocessors': [{\n",
        "        'key': 'FFmpegExtractAudio',\n",
        "        'preferredcodec': 'wav',\n",
        "    }],\n",
        "    \"outtmpl\": f'youtubeaudio/{song_name}',  # this is where you can edit how you'd like the filenames to be formatted\n",
        "}\n",
        "def download_from_url(url):\n",
        "    ydl.download([url])\n",
        "    # stream = ffmpeg.input('output.m4a')\n",
        "    # stream = ffmpeg.output(stream, 'output.wav')\n",
        "\n",
        "with yt_dlp.YoutubeDL(ydl_opts) as ydl:\n",
        "      \n",
        "      download_from_url(url)\n",
        "\n",
        "#Separate Vocal and Instrument/Noise using Demucs\n",
        "if demucs:\n",
        "   AUDIO_INPUT = f\"/youtubeaudio/{song_name}.wav\"\n",
        "   command = f\"demucs --two-stems=vocals {AUDIO_INPUT}\"\n",
        "   result = subprocess.run(command.split(), stdout=subprocess.PIPE)\n",
        "   print(result.stdout.decode())\n",
        "else:\n",
        "     pass\n",
        "clear_output()"
      ]
    },
    {
      "cell_type": "code",
      "execution_count": null,
      "metadata": {
        "id": "TREXn0H9RWWV",
        "cellView": "form"
      },
      "outputs": [],
      "source": [
        "#@markdown #***Launch UI***\n",
        "#@markdown <font size=3>copy path `/content/rvc-models/youtubeaudio/{song_name}.wav` as input inside web/gradio. Then, Click <font size=4> <b>Generate</b><br>\n",
        "#@markdown <font size=3>if U Want to Download More Song,<font color=f9e076> Stop (this) Cell and run Cell Above, And Run (this) Cell Again <font size=2, color=007E33> (Don't forget to Change `url` and `song_name`)\n",
        "%cd /content/rvc-models\n",
        "\n",
        "!python app.py --share --files"
      ]
    }
  ],
  "metadata": {
    "accelerator": "GPU",
    "colab": {
      "provenance": [],
      "private_outputs": true,
      "include_colab_link": true
    },
    "gpuClass": "standard",
    "kernelspec": {
      "display_name": "Python 3",
      "name": "python3"
    },
    "language_info": {
      "name": "python"
    }
  },
  "nbformat": 4,
  "nbformat_minor": 0
}